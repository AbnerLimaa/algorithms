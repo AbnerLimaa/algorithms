{
 "cells": [
  {
   "cell_type": "code",
   "execution_count": 26,
   "metadata": {},
   "outputs": [
    {
     "data": {
      "image/png": "[encoded data removed]",
      "text/plain": [
       "<Figure size 432x288 with 1 Axes>"
      ]
     },
     "metadata": {
      "needs_background": "light"
     },
     "output_type": "display_data"
    }
   ],
   "source": [
    "from matplotlib import pyplot\n",
    "\n",
    "num_friends = [21, 42, 31, 67, 12, 6, 31, 19, 12, 38, 56, 71, 67, 50, 31,\n",
    "               23, 61, 59, 48, 77, 26, 61, 23, 32, 47, 48, 55]\n",
    "\n",
    "pyplot.hist(num_friends)\n",
    "pyplot.title(\"Histogram of Friends Counts\")\n",
    "pyplot.xlabel(\"Number of friends\")\n",
    "pyplot.ylabel(\"Number of people\")\n",
    "pyplot.show()"
   ]
  },
  {
   "cell_type": "code",
   "execution_count": 27,
   "metadata": {},
   "outputs": [
    {
     "name": "stdout",
     "output_type": "stream",
     "text": [
      "27\n",
      "77\n",
      "6\n",
      "[6, 12, 12, 19, 21, 23, 23, 26, 31, 31, 31, 32, 38, 42, 47, 48, 48, 50, 55, 56, 59, 61, 61, 67, 67, 71, 77]\n"
     ]
    }
   ],
   "source": [
    "num_points = len(num_friends)\n",
    "largest_value = max(num_friends)\n",
    "min_value = min(num_friends)\n",
    "sorted_values = sorted(num_friends)\n",
    "print(num_points)\n",
    "print(largest_value)\n",
    "print(min_value)\n",
    "print(sorted_values)"
   ]
  },
  {
   "cell_type": "code",
   "execution_count": 28,
   "metadata": {},
   "outputs": [
    {
     "name": "stdout",
     "output_type": "stream",
     "text": [
      "41.25925925925926\n"
     ]
    }
   ],
   "source": [
    "def mean(values):\n",
    "    return sum(values)/len(values)\n",
    "\n",
    "print(mean(num_friends))"
   ]
  },
  {
   "cell_type": "code",
   "execution_count": 29,
   "metadata": {},
   "outputs": [
    {
     "name": "stdout",
     "output_type": "stream",
     "text": [
      "42\n"
     ]
    }
   ],
   "source": [
    "def median(values):\n",
    "    size = len(values)\n",
    "    sorted_values = sorted(values)\n",
    "    midpoint = size // 2\n",
    "    if (size % 2) == 1:\n",
    "        return sorted_values[midpoint]\n",
    "    else:\n",
    "        return (sorted_values[midpoint] + sorted_values[midpoint - 1]) / 2\n",
    "\n",
    "print(median(num_friends))"
   ]
  },
  {
   "cell_type": "code",
   "execution_count": 30,
   "metadata": {},
   "outputs": [
    {
     "name": "stdout",
     "output_type": "stream",
     "text": [
      "42\n"
     ]
    }
   ],
   "source": [
    "def quantile(values, percentile):\n",
    "    index = int(percentile * len(values))\n",
    "    return sorted(values)[index]\n",
    "\n",
    "print(quantile(num_friends, 0.5))"
   ]
  },
  {
   "cell_type": "code",
   "execution_count": 33,
   "metadata": {},
   "outputs": [
    {
     "name": "stdout",
     "output_type": "stream",
     "text": [
      "[31]\n"
     ]
    }
   ],
   "source": [
    "from collections import Counter\n",
    "\n",
    "def mode(values):\n",
    "    counter = Counter(values)\n",
    "    max_count = max(counter.values())\n",
    "    return [x for x, count in counter.items()\n",
    "            if count == max_count]\n",
    "\n",
    "print(mode(num_friends))"
   ]
  },
  {
   "cell_type": "code",
   "execution_count": 35,
   "metadata": {},
   "outputs": [
    {
     "name": "stdout",
     "output_type": "stream",
     "text": [
      "71\n"
     ]
    }
   ],
   "source": [
    "def data_range(values):\n",
    "    return max(values) - min(values)\n",
    "\n",
    "print(data_range(num_friends))"
   ]
  },
  {
   "cell_type": "code",
   "execution_count": 45,
   "metadata": {},
   "outputs": [
    {
     "name": "stdout",
     "output_type": "stream",
     "text": [
      "398.50712250712246\n"
     ]
    }
   ],
   "source": [
    "import math\n",
    "\n",
    "def variance(values):\n",
    "    m = mean(values)\n",
    "    n = len(values)\n",
    "    squares_sum = 0\n",
    "    for x in values:\n",
    "        squares_sum += math.pow(x - m, 2)\n",
    "    return squares_sum / (n - 1)\n",
    "\n",
    "print(variance(num_friends))"
   ]
  },
  {
   "cell_type": "code",
   "execution_count": 48,
   "metadata": {},
   "outputs": [
    {
     "name": "stdout",
     "output_type": "stream",
     "text": [
      "19.96264317436753\n"
     ]
    }
   ],
   "source": [
    "def standard_deviation(values):\n",
    "    return math.sqrt(variance(values))\n",
    "\n",
    "print(standard_deviation(num_friends))"
   ]
  },
  {
   "cell_type": "code",
   "execution_count": null,
   "metadata": {},
   "outputs": [],
   "source": []
  }
 ],
 "metadata": {
  "kernelspec": {
   "display_name": "Python 3",
   "language": "python",
   "name": "python3"
  },
  "language_info": {
   "codemirror_mode": {
    "name": "ipython",
    "version": 3
   },
   "file_extension": ".py",
   "mimetype": "text/x-python",
   "name": "python",
   "nbconvert_exporter": "python",
   "pygments_lexer": "ipython3",
   "version": "3.8.1"
  }
 },
 "nbformat": 4,
 "nbformat_minor": 4
}
